{
  "nbformat": 4,
  "nbformat_minor": 0,
  "metadata": {
    "colab": {
      "name": "Part02_TensorFlow.ipynb",
      "provenance": [],
      "collapsed_sections": [],
      "toc_visible": true,
      "authorship_tag": "ABX9TyPjLOXako2DswM89vzC0sr4",
      "include_colab_link": true
    },
    "kernelspec": {
      "name": "python3",
      "display_name": "Python 3"
    },
    "language_info": {
      "name": "python"
    },
    "accelerator": "GPU"
  },
  "cells": [
    {
      "cell_type": "markdown",
      "metadata": {
        "id": "view-in-github",
        "colab_type": "text"
      },
      "source": [
        "<a href=\"https://colab.research.google.com/github/CamelGoong/PY_TensorFlow/blob/main/Part02_TensorFlow.ipynb\" target=\"_parent\"><img src=\"https://colab.research.google.com/assets/colab-badge.svg\" alt=\"Open In Colab\"/></a>"
      ]
    },
    {
      "cell_type": "markdown",
      "metadata": {
        "id": "9gMqVwiVbpnd"
      },
      "source": [
        "# 02 텐서플로2 주요 특징\n"
      ]
    },
    {
      "cell_type": "code",
      "metadata": {
        "colab": {
          "base_uri": "https://localhost:8080/"
        },
        "id": "Lnuwfk1Aahx_",
        "outputId": "155881dd-74fc-4c0a-83ea-986d6022dd19"
      },
      "source": [
        "import tensorflow as tf\n",
        "print(tf.executing_eagerly())"
      ],
      "execution_count": 1,
      "outputs": [
        {
          "output_type": "stream",
          "name": "stdout",
          "text": [
            "True\n"
          ]
        }
      ]
    },
    {
      "cell_type": "code",
      "metadata": {
        "colab": {
          "base_uri": "https://localhost:8080/"
        },
        "id": "FZ3OXOLrb1K3",
        "outputId": "1c254122-bbac-44a8-a15e-c5ff12b8a0fc"
      },
      "source": [
        "a = 1\n",
        "b = 2\n",
        "c = tf.math.add(a, b)\n",
        "print(c)\n",
        "c.numpy()"
      ],
      "execution_count": 3,
      "outputs": [
        {
          "output_type": "stream",
          "name": "stdout",
          "text": [
            "tf.Tensor(3, shape=(), dtype=int32)\n"
          ]
        },
        {
          "output_type": "execute_result",
          "data": {
            "text/plain": [
              "3"
            ]
          },
          "metadata": {},
          "execution_count": 3
        }
      ]
    },
    {
      "cell_type": "markdown",
      "metadata": {
        "id": "R1Q66n8MuMSO"
      },
      "source": [
        "#03 텐서플로 자료구조"
      ]
    },
    {
      "cell_type": "markdown",
      "metadata": {
        "id": "ggAEz_YuqVS5"
      },
      "source": [
        "\n",
        "\n",
        "> 3-1 스칼라(Scalar)\n",
        "\n"
      ]
    },
    {
      "cell_type": "code",
      "metadata": {
        "colab": {
          "base_uri": "https://localhost:8080/"
        },
        "id": "dl-iNRVdqgAx",
        "outputId": "c8938613-090f-4062-f9d6-ade77671534c"
      },
      "source": [
        "a = tf.constant(1)\n",
        "b = tf.constant(2)\n",
        "\n",
        "print(\"a: \", a)\n",
        "print(\"b: \", b)\n",
        "\n",
        "print(\"a의 차수 확인: \", tf.rank(a))\n"
      ],
      "execution_count": 7,
      "outputs": [
        {
          "output_type": "stream",
          "name": "stdout",
          "text": [
            "a:  tf.Tensor(1, shape=(), dtype=int32)\n",
            "b:  tf.Tensor(2, shape=(), dtype=int32)\n",
            "a의 차수 확인:  tf.Tensor(0, shape=(), dtype=int32)\n"
          ]
        }
      ]
    },
    {
      "cell_type": "code",
      "metadata": {
        "colab": {
          "base_uri": "https://localhost:8080/"
        },
        "id": "rYT8ymuHrmwp",
        "outputId": "1cf85c10-be83-49be-8151-78135e70e959"
      },
      "source": [
        "# 텐서의 자료형 변환\n",
        "a = tf.cast(a, tf.float32)\n",
        "b = tf.cast(b, tf.float32)\n",
        "print(a.dtype)\n",
        "print(b.dtype)"
      ],
      "execution_count": 8,
      "outputs": [
        {
          "output_type": "stream",
          "name": "stdout",
          "text": [
            "<dtype: 'float32'>\n",
            "<dtype: 'float32'>\n"
          ]
        }
      ]
    },
    {
      "cell_type": "code",
      "metadata": {
        "colab": {
          "base_uri": "https://localhost:8080/"
        },
        "id": "iUAL2lZEsOJy",
        "outputId": "c581b36a-85a6-474c-99f0-bb26e0eca6d3"
      },
      "source": [
        "c = tf.math.add(a,b)\n",
        "print(c)\n",
        "print(c.dtype)"
      ],
      "execution_count": 12,
      "outputs": [
        {
          "output_type": "stream",
          "name": "stdout",
          "text": [
            "tf.Tensor(3.0, shape=(), dtype=float32)\n",
            "<dtype: 'float32'>\n"
          ]
        }
      ]
    },
    {
      "cell_type": "markdown",
      "metadata": {
        "id": "cIim5FTKuDmI"
      },
      "source": [
        "\n",
        "\n",
        "> 3-2 벡터\n",
        "\n"
      ]
    },
    {
      "cell_type": "code",
      "metadata": {
        "colab": {
          "base_uri": "https://localhost:8080/"
        },
        "id": "aosFRDHVsayx",
        "outputId": "8883902b-fe72-4ed8-f99c-07251f99ef81"
      },
      "source": [
        "import tensorflow as tf\n",
        "import numpy as np\n",
        "\n",
        "# 1차원 배열 정의\n",
        "py_list = [10., 20., 30.]\n",
        "num_array = np.array([10., 20., 30.])\n",
        "\n",
        "# 텐서 변환\n",
        "vec1 = tf.constant(py_list, dtype = tf.float32)\n",
        "vec2 = tf.constant(num_array, dtype = tf.float32)\n",
        "\n",
        "print(vec1)\n",
        "print(vec2)"
      ],
      "execution_count": 13,
      "outputs": [
        {
          "output_type": "stream",
          "name": "stdout",
          "text": [
            "tf.Tensor([10. 20. 30.], shape=(3,), dtype=float32)\n",
            "tf.Tensor([10. 20. 30.], shape=(3,), dtype=float32)\n"
          ]
        }
      ]
    },
    {
      "cell_type": "code",
      "metadata": {
        "colab": {
          "base_uri": "https://localhost:8080/"
        },
        "id": "agTzdKWyxQsq",
        "outputId": "54743db8-9c9b-4ae3-fb2d-5dfe1775d530"
      },
      "source": [
        "# 덧셈\n",
        "add1 = tf.math.add(vec1, vec2)\n",
        "print(\"result: \", add1)\n",
        "\n",
        "# 거듭제곱\n",
        "square1 = tf.math.square(vec1)\n",
        "print(\"result: \", square1)"
      ],
      "execution_count": 15,
      "outputs": [
        {
          "output_type": "stream",
          "name": "stdout",
          "text": [
            "result:  tf.Tensor([20. 40. 60.], shape=(3,), dtype=float32)\n",
            "result:  tf.Tensor([100. 400. 900.], shape=(3,), dtype=float32)\n"
          ]
        }
      ]
    },
    {
      "cell_type": "markdown",
      "metadata": {
        "id": "CTDzPp2wx0pn"
      },
      "source": [
        "\n",
        "\n",
        "> 3-3 행렬(Matrix)\n",
        "\n"
      ]
    },
    {
      "cell_type": "code",
      "metadata": {
        "colab": {
          "base_uri": "https://localhost:8080/"
        },
        "id": "l3bxMEtyx5QB",
        "outputId": "6a656400-85ec-455b-81fb-f0e954017b94"
      },
      "source": [
        "import tensorflow as tf\n",
        "list_of_list = [[10, 20], [30, 40]]\n",
        "\n",
        "mat1 = tf.constant(list_of_list)\n",
        "print(\"rank: \", tf.rank(mat1))\n",
        "print(\"mat1\", mat1)"
      ],
      "execution_count": 16,
      "outputs": [
        {
          "output_type": "stream",
          "name": "stdout",
          "text": [
            "rank:  tf.Tensor(2, shape=(), dtype=int32)\n",
            "mat1 tf.Tensor(\n",
            "[[10 20]\n",
            " [30 40]], shape=(2, 2), dtype=int32)\n"
          ]
        }
      ]
    },
    {
      "cell_type": "code",
      "metadata": {
        "colab": {
          "base_uri": "https://localhost:8080/"
        },
        "id": "ontve4Fm0Mu8",
        "outputId": "ae2c5f60-090a-4f17-c47a-abf0d3db7377"
      },
      "source": [
        "# stack 함수를 이용해서 행렬 만들기\n",
        "vec1 = tf.constant([1,0])\n",
        "vec2 = tf.constant([-1, 2])\n",
        "\n",
        "# 텐서 변환\n",
        "mat2 = tf.stack([vec1, vec2])\n",
        "\n",
        "print(\"mat2: \", mat2)"
      ],
      "execution_count": 17,
      "outputs": [
        {
          "output_type": "stream",
          "name": "stdout",
          "text": [
            "mat2:  tf.Tensor(\n",
            "[[ 1  0]\n",
            " [-1  2]], shape=(2, 2), dtype=int32)\n"
          ]
        }
      ]
    },
    {
      "cell_type": "code",
      "metadata": {
        "colab": {
          "base_uri": "https://localhost:8080/"
        },
        "id": "2p6Vzi970kjk",
        "outputId": "7352a732-f2c4-4e7c-b829-f822e0b98592"
      },
      "source": [
        "# element by element 연산(multiply는 그냥 같은 위치에 있는 원소끼리의 곱셈)\n",
        "element_mul = tf.math.multiply(mat1, mat2)\n",
        "print(\"result: \", element_mul)"
      ],
      "execution_count": 18,
      "outputs": [
        {
          "output_type": "stream",
          "name": "stdout",
          "text": [
            "result:  tf.Tensor(\n",
            "[[ 10   0]\n",
            " [-30  80]], shape=(2, 2), dtype=int32)\n"
          ]
        }
      ]
    },
    {
      "cell_type": "code",
      "metadata": {
        "colab": {
          "base_uri": "https://localhost:8080/"
        },
        "id": "26eHQOJ81SP2",
        "outputId": "baef9229-a345-42cb-b4bd-0c1152b4256f"
      },
      "source": [
        "# 행렬곱(matmul)\n",
        "mat_mul = tf.matmul(mat1, mat2)\n",
        "print(\"result: \", mat_mul)"
      ],
      "execution_count": 19,
      "outputs": [
        {
          "output_type": "stream",
          "name": "stdout",
          "text": [
            "result:  tf.Tensor(\n",
            "[[-10  40]\n",
            " [-10  80]], shape=(2, 2), dtype=int32)\n"
          ]
        }
      ]
    },
    {
      "cell_type": "code",
      "metadata": {
        "colab": {
          "base_uri": "https://localhost:8080/"
        },
        "id": "Vhc43NoN1jQY",
        "outputId": "21b51710-4990-431f-f3b0-f31c03a96e64"
      },
      "source": [
        "# 텐서를 넘파이로 변환\n",
        "np_arr = mat_mul.numpy()\n",
        "print(np_arr)\n",
        "print(type(np_arr))"
      ],
      "execution_count": 20,
      "outputs": [
        {
          "output_type": "stream",
          "name": "stdout",
          "text": [
            "[[-10  40]\n",
            " [-10  80]]\n",
            "<class 'numpy.ndarray'>\n"
          ]
        }
      ]
    },
    {
      "cell_type": "markdown",
      "metadata": {
        "id": "cMAb1jvU2N83"
      },
      "source": [
        "> 3-4 고차원 텐서"
      ]
    },
    {
      "cell_type": "code",
      "metadata": {
        "colab": {
          "base_uri": "https://localhost:8080/"
        },
        "id": "qKjM76t62M7J",
        "outputId": "f6dddbbf-4cad-42d7-cba3-5c3608217e58"
      },
      "source": [
        "# 3차원 텐서\n",
        "import tensorflow as tf\n",
        "import numpy as np\n",
        "\n",
        "# 2차원 배열 정의\n",
        "mat1 = [[1, 2, 3, 4],\n",
        "        [5, 6, 7, 8]]\n",
        "mat2 = [[9, 10, 11, 12],\n",
        "        [13, 14, 15, 16]]\n",
        "mat3 = [[17, 18, 19, 20],\n",
        "        [21, 22, 23, 24]]\n",
        "\n",
        "# 텐서 변환\n",
        "tensor1 = tf.constant([mat1, mat2, mat3])\n",
        "\n",
        "print(\"rank: \", tf.rank(tensor1))\n",
        "print(\"result: \", tensor1)"
      ],
      "execution_count": 21,
      "outputs": [
        {
          "output_type": "stream",
          "name": "stdout",
          "text": [
            "rank:  tf.Tensor(3, shape=(), dtype=int32)\n",
            "result:  tf.Tensor(\n",
            "[[[ 1  2  3  4]\n",
            "  [ 5  6  7  8]]\n",
            "\n",
            " [[ 9 10 11 12]\n",
            "  [13 14 15 16]]\n",
            "\n",
            " [[17 18 19 20]\n",
            "  [21 22 23 24]]], shape=(3, 2, 4), dtype=int32)\n"
          ]
        }
      ]
    },
    {
      "cell_type": "code",
      "metadata": {
        "colab": {
          "base_uri": "https://localhost:8080/"
        },
        "id": "S0IkKkES4InT",
        "outputId": "14bb9146-fb36-4e49-d4ec-f0855ad48539"
      },
      "source": [
        "# 4차원 텐서\n",
        "tensor2 = tensor1\n",
        "\n",
        "tensor4 = tf.stack([tensor1, tensor2])\n",
        "print(\"rank: \", tf.rank(tensor4))\n",
        "print(\"result: \", tensor4)"
      ],
      "execution_count": 23,
      "outputs": [
        {
          "output_type": "stream",
          "name": "stdout",
          "text": [
            "rank:  tf.Tensor(4, shape=(), dtype=int32)\n",
            "result:  tf.Tensor(\n",
            "[[[[ 1  2  3  4]\n",
            "   [ 5  6  7  8]]\n",
            "\n",
            "  [[ 9 10 11 12]\n",
            "   [13 14 15 16]]\n",
            "\n",
            "  [[17 18 19 20]\n",
            "   [21 22 23 24]]]\n",
            "\n",
            "\n",
            " [[[ 1  2  3  4]\n",
            "   [ 5  6  7  8]]\n",
            "\n",
            "  [[ 9 10 11 12]\n",
            "   [13 14 15 16]]\n",
            "\n",
            "  [[17 18 19 20]\n",
            "   [21 22 23 24]]]], shape=(2, 3, 2, 4), dtype=int32)\n"
          ]
        }
      ]
    },
    {
      "cell_type": "markdown",
      "metadata": {
        "id": "cBFPnsIV5kGV"
      },
      "source": [
        "> 04 인덱싱(indexing)"
      ]
    },
    {
      "cell_type": "code",
      "metadata": {
        "colab": {
          "base_uri": "https://localhost:8080/"
        },
        "id": "TduJyQ305mIB",
        "outputId": "91615b62-033b-4aff-8d82-208e0845fdc4"
      },
      "source": [
        "# 2차원 텐서 인덱싱\n",
        "mat = tf.constant([[10, 20, 30],\n",
        "                  [40, 50, 60]])\n",
        "print(mat[0,0])"
      ],
      "execution_count": 26,
      "outputs": [
        {
          "output_type": "stream",
          "name": "stdout",
          "text": [
            "tf.Tensor(10, shape=(), dtype=int32)\n"
          ]
        }
      ]
    },
    {
      "cell_type": "code",
      "metadata": {
        "colab": {
          "base_uri": "https://localhost:8080/"
        },
        "id": "mwEGYOnd6fY1",
        "outputId": "e4055448-6e44-4504-cf1a-68c605369e89"
      },
      "source": [
        "# 3차원 텐서 인덱싱\n",
        "tensor = tf.constant([\n",
        "                      [[10, 20, 30],\n",
        "                       [40, 50 ,60]],\n",
        "                      [[-10, -20, -30],\n",
        "                       [-40, -50, -60]]\n",
        "])\n",
        "\n",
        "print(tensor)\n",
        "\n",
        "print(tensor[0, :, :])"
      ],
      "execution_count": 28,
      "outputs": [
        {
          "output_type": "stream",
          "name": "stdout",
          "text": [
            "tf.Tensor(\n",
            "[[[ 10  20  30]\n",
            "  [ 40  50  60]]\n",
            "\n",
            " [[-10 -20 -30]\n",
            "  [-40 -50 -60]]], shape=(2, 2, 3), dtype=int32)\n",
            "tf.Tensor(\n",
            "[[10 20 30]\n",
            " [40 50 60]], shape=(2, 3), dtype=int32)\n"
          ]
        }
      ]
    },
    {
      "cell_type": "markdown",
      "metadata": {
        "id": "tfjYOtt87eOh"
      },
      "source": [
        "> 05 형태 변환(tf.reshape)"
      ]
    },
    {
      "cell_type": "code",
      "metadata": {
        "colab": {
          "base_uri": "https://localhost:8080/"
        },
        "id": "9ox6gu6j7iYm",
        "outputId": "c971b6cc-b27f-4312-b838-17e39f27ad20"
      },
      "source": [
        "import tensorflow as tf\n",
        "tensor = tf.constant(range(0, 24))\n",
        "print(tensor)"
      ],
      "execution_count": 1,
      "outputs": [
        {
          "output_type": "stream",
          "name": "stdout",
          "text": [
            "tf.Tensor([ 0  1  2  3  4  5  6  7  8  9 10 11 12 13 14 15 16 17 18 19 20 21 22 23], shape=(24,), dtype=int32)\n"
          ]
        }
      ]
    },
    {
      "cell_type": "code",
      "metadata": {
        "colab": {
          "base_uri": "https://localhost:8080/"
        },
        "id": "JvT-k8qV7_SF",
        "outputId": "1c42b207-98a8-4815-bcc4-02b3b39ccaf1"
      },
      "source": [
        "# 1차원 벡터 -> 2차원 벡터 / 처음 1차원 벡터의 원소의 갯수가 24개였으므로, 이 원소의 갯수를 유지하는 한, 어떤 형태의 행렬로도 형태의 변환이 가능\n",
        "tensor1 = tf.reshape(tensor, (3, -1))\n",
        "print(tensor1)\n",
        "\n",
        "tensor2 = tf.reshape(tensor, (-1, 4))\n",
        "print(tensor2)\n",
        "\n",
        "# 2차원 벡터 -> 1차원 벡터\n",
        "tensor3 = tf.reshape(tensor2, (-1))\n",
        "print(tensor3)\n",
        "\n",
        "# 1차원 벡터 -> 3차원 벡터\n",
        "tensor4 = tf.reshape(tensor3, (-1, 3, 4))\n",
        "print(tensor4)\n",
        "\n",
        "# 3차원 텐서 -> 4차원 텐서\n",
        "tensor5 = tf.reshape(tensor4, (3, 2, 2, 2))\n",
        "print(tensor5)"
      ],
      "execution_count": 10,
      "outputs": [
        {
          "output_type": "stream",
          "name": "stdout",
          "text": [
            "tf.Tensor(\n",
            "[[ 0  1  2  3  4  5  6  7]\n",
            " [ 8  9 10 11 12 13 14 15]\n",
            " [16 17 18 19 20 21 22 23]], shape=(3, 8), dtype=int32)\n",
            "tf.Tensor(\n",
            "[[ 0  1  2  3]\n",
            " [ 4  5  6  7]\n",
            " [ 8  9 10 11]\n",
            " [12 13 14 15]\n",
            " [16 17 18 19]\n",
            " [20 21 22 23]], shape=(6, 4), dtype=int32)\n",
            "tf.Tensor([ 0  1  2  3  4  5  6  7  8  9 10 11 12 13 14 15 16 17 18 19 20 21 22 23], shape=(24,), dtype=int32)\n",
            "tf.Tensor(\n",
            "[[[ 0  1  2  3]\n",
            "  [ 4  5  6  7]\n",
            "  [ 8  9 10 11]]\n",
            "\n",
            " [[12 13 14 15]\n",
            "  [16 17 18 19]\n",
            "  [20 21 22 23]]], shape=(2, 3, 4), dtype=int32)\n",
            "tf.Tensor(\n",
            "[[[[ 0  1]\n",
            "   [ 2  3]]\n",
            "\n",
            "  [[ 4  5]\n",
            "   [ 6  7]]]\n",
            "\n",
            "\n",
            " [[[ 8  9]\n",
            "   [10 11]]\n",
            "\n",
            "  [[12 13]\n",
            "   [14 15]]]\n",
            "\n",
            "\n",
            " [[[16 17]\n",
            "   [18 19]]\n",
            "\n",
            "  [[20 21]\n",
            "   [22 23]]]], shape=(3, 2, 2, 2), dtype=int32)\n"
          ]
        }
      ]
    },
    {
      "cell_type": "markdown",
      "metadata": {
        "id": "9LBfv16I9ljW"
      },
      "source": [
        "> 변수(tf.variable)"
      ]
    },
    {
      "cell_type": "code",
      "metadata": {
        "colab": {
          "base_uri": "https://localhost:8080/"
        },
        "id": "RSlKky-c_EVA",
        "outputId": "34d401cf-2629-4934-e5aa-1c2f7cf56e52"
      },
      "source": [
        "import tensorflow as tf\n",
        "\n",
        "tensor1 = tf.constant([[0, 1, 2],\n",
        "                       [3, 4, 5]])\n",
        "\n",
        "tensor_var1 = tf.Variable(tensor1)\n",
        "\n",
        "print(tensor1)\n",
        "print(tensor_var1)"
      ],
      "execution_count": 11,
      "outputs": [
        {
          "output_type": "stream",
          "name": "stdout",
          "text": [
            "tf.Tensor(\n",
            "[[0 1 2]\n",
            " [3 4 5]], shape=(2, 3), dtype=int32)\n",
            "<tf.Variable 'Variable:0' shape=(2, 3) dtype=int32, numpy=\n",
            "array([[0, 1, 2],\n",
            "       [3, 4, 5]], dtype=int32)>\n"
          ]
        }
      ]
    },
    {
      "cell_type": "code",
      "metadata": {
        "colab": {
          "base_uri": "https://localhost:8080/"
        },
        "id": "LBJIyljeAM_Q",
        "outputId": "fc0656ce-2d1d-417b-931b-8438bd7de1e5"
      },
      "source": [
        "# assign 메소드로 variable에 새로운 배열 할당\n",
        "tensor_var1.assign([[1, 1, 1],\n",
        "                    [2, 2, 3]])\n",
        "print(tensor_var1)\n",
        "\n",
        "# 변수 -> 텐서로 변환. / convert_to_tensor()\n",
        "tensor2 = tf.convert_to_tensor(tensor_var1)\n",
        "print(tensor2)"
      ],
      "execution_count": 13,
      "outputs": [
        {
          "output_type": "stream",
          "name": "stdout",
          "text": [
            "<tf.Variable 'Variable:0' shape=(2, 3) dtype=int32, numpy=\n",
            "array([[1, 1, 1],\n",
            "       [2, 2, 3]], dtype=int32)>\n",
            "tf.Tensor(\n",
            "[[1 1 1]\n",
            " [2 2 3]], shape=(2, 3), dtype=int32)\n"
          ]
        }
      ]
    },
    {
      "cell_type": "markdown",
      "metadata": {
        "id": "GYJFeqOTA0nq"
      },
      "source": [
        "> 자동 미분(Automatic Differentiation)"
      ]
    },
    {
      "cell_type": "code",
      "metadata": {
        "colab": {
          "base_uri": "https://localhost:8080/"
        },
        "id": "cdLXamEzA3tW",
        "outputId": "675780bc-d80a-4970-8a37-ce4bbb17ab27"
      },
      "source": [
        "import tensorflow as tf\n",
        "\n",
        "# y = 3x - 2의 선형관계를 갖는 데이터셋 생성\n",
        "g = tf.random.Generator.from_seed(2020)\n",
        "x = g.normal(shape = (10,)) # 10개의 1차원 벡터 생성.\n",
        "y = 3 * x - 2\n",
        "\n",
        "print(\"x: \", x.numpy())\n",
        "print(\"y: \", y.numpy())"
      ],
      "execution_count": 15,
      "outputs": [
        {
          "output_type": "stream",
          "name": "stdout",
          "text": [
            "x:  [-0.20943771  1.2746525   1.213214   -0.17576954  1.876984    0.16379917\n",
            "  1.082245    0.6199966  -0.4440221   1.3048344 ]\n",
            "y:  [-2.628313    1.8239574   1.6396422  -2.5273085   3.630952   -1.5086025\n",
            "  1.2467351  -0.14001012 -3.3320663   1.9145031 ]\n"
          ]
        }
      ]
    },
    {
      "cell_type": "code",
      "metadata": {
        "id": "lDCIMlA3ByEl"
      },
      "source": [
        "# Loss 손실함수 정의\n",
        "def cal_mse(x, y, a, b):\n",
        "\n",
        "  y_pred = a * x + b\n",
        "  squared_error = (y_pred - y) ** 2\n",
        "  mean_squared_error = tf.reduce_mean(squared_error)\n",
        "\n",
        "  return mean_squared_error"
      ],
      "execution_count": 16,
      "outputs": []
    },
    {
      "cell_type": "code",
      "metadata": {
        "colab": {
          "base_uri": "https://localhost:8080/"
        },
        "id": "RTtR3tfKCKmM",
        "outputId": "4e5297b9-4d35-4495-dc3d-1de5c4eccd2e"
      },
      "source": [
        "# tf.GradientTape로 자동 미분 과정을 기록\n",
        "\n",
        "# 변수 생성\n",
        "a = tf.Variable(0.0) # 계수\n",
        "b = tf.Variable(0.0) # 상수항\n",
        "\n",
        "EPOCHS = 200\n",
        "\n",
        "for epoch in range(1, EPOCHS + 1):\n",
        "\n",
        "  with tf.GradientTape() as tape:\n",
        "    mse = cal_mse(x, y, a, b)\n",
        "\n",
        "    grad = tape.gradient(mse, {\"a\": a, \"b\": b})\n",
        "    d_a, d_b = grad[\"a\"], grad[\"b\"]\n",
        "\n",
        "# 학습율을 곱해서 Gradient descent 사용.\n",
        "    a.assign_sub(d_a * 0.05)\n",
        "    b.assign_sub(d_b * 0.05)\n",
        "    \n",
        "    if epoch % 20 == 0: # 20 epochs마다 미분값 출력.\n",
        "      print(\"EPOCH %d - MSE: %.4f ----- a: %.2f ----- b: %.2f\"%(epoch, mse, a, b))"
      ],
      "execution_count": 17,
      "outputs": [
        {
          "output_type": "stream",
          "name": "stdout",
          "text": [
            "EPOCH 20 - MSE: 1.1415 ----- a: 1.74 ----- b: -0.75\n",
            "EPOCH 40 - MSE: 0.2881 ----- a: 2.37 ----- b: -1.37\n",
            "EPOCH 60 - MSE: 0.0728 ----- a: 2.69 ----- b: -1.68\n",
            "EPOCH 80 - MSE: 0.0184 ----- a: 2.84 ----- b: -1.84\n",
            "EPOCH 100 - MSE: 0.0046 ----- a: 2.92 ----- b: -1.92\n",
            "EPOCH 120 - MSE: 0.0012 ----- a: 2.96 ----- b: -1.96\n",
            "EPOCH 140 - MSE: 0.0003 ----- a: 2.98 ----- b: -1.98\n",
            "EPOCH 160 - MSE: 0.0001 ----- a: 2.99 ----- b: -1.99\n",
            "EPOCH 180 - MSE: 0.0000 ----- a: 2.99 ----- b: -1.99\n",
            "EPOCH 200 - MSE: 0.0000 ----- a: 3.00 ----- b: -2.00\n"
          ]
        }
      ]
    }
  ]
}